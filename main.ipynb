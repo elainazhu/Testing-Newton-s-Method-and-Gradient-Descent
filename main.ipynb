{
 "cells": [
  {
   "cell_type": "code",
   "execution_count": 6,
   "id": "9c0394ca",
   "metadata": {},
   "outputs": [],
   "source": [
    "import numpy as np\n",
    "\n",
    "# Load data\n",
    "X = np.loadtxt('cm-sheet5-X.txt')  # shape (2000, 137)\n",
    "y = np.loadtxt('cm-sheet5-y.txt')  # shape (2000,)\n",
    "\n",
    "# Exponential loss, gradient, Hessian\n",
    "\n",
    "def loss(w, X, y):\n",
    "    z = -y * (X @ w)\n",
    "    expz = np.exp(z)\n",
    "    return np.sum(expz)\n",
    "\n",
    "\n",
    "def loss(w, X, y):\n",
    "    z = -y * (X @ w)\n",
    "    expz = np.exp(z)\n",
    "    return np.sum(expz)\n",
    "\n",
    "\n",
    "def grad(w, X, y):\n",
    "    z = -y * (X @ w)\n",
    "    expz = np.exp(z)\n",
    "    return - (expz * y) @ X\n",
    "\n",
    "def hessian(w, X, y):\n",
    "    # Compute Hessian: H = X^T diag(exp(-y_i w^T x_i)) X\n",
    "    z = -y * (X @ w)\n",
    "    expz = np.exp(z)\n",
    "    return X.T @ (expz[:, None] * X)\n"
   ]
  },
  {
   "cell_type": "markdown",
   "id": "4bfc064a",
   "metadata": {},
   "source": [
    "# 1. Newton's Method\n"
   ]
  },
  {
   "cell_type": "code",
   "execution_count": 7,
   "id": "3eed5e83",
   "metadata": {},
   "outputs": [],
   "source": [
    "\n",
    "def optimize_newton(w0, X, y, tol=1e-6, maxiter=50):\n",
    "    w = w0.copy()\n",
    "    for i in range(maxiter):\n",
    "        g = grad(w, X, y)\n",
    "        H = hessian(w, X, y)\n",
    "        delta = np.linalg.solve(H, g)\n",
    "        w -= delta\n",
    "        if np.linalg.norm(g) < tol:\n",
    "            break\n",
    "    return w\n"
   ]
  },
  {
   "cell_type": "markdown",
   "id": "f55c94b5",
   "metadata": {},
   "source": [
    "# 2. Gradient Descent"
   ]
  },
  {
   "cell_type": "code",
   "execution_count": null,
   "id": "e7553fbc",
   "metadata": {},
   "outputs": [],
   "source": [
    "def optimize_gd(w0, X, y, lr=1.0, tol=1e-5, maxiter=10000):\n",
    "    w = w0.copy()\n",
    "    for i in range(maxiter):\n",
    "        g = grad(w, X, y)\n",
    "        # backtracking to find a safe α\n",
    "        α = lr\n",
    "        c = 1e-4\n",
    "        L0 = loss(w, X, y)\n",
    "        while True:\n",
    "            w_new = w - α*g\n",
    "            L1 = loss(w_new, X, y)\n",
    "            if not (L1 > L0 - c*α*(g@g)): \n",
    "                break\n",
    "            α *= 0.5\n",
    "            if α < 1e-16: \n",
    "                break\n",
    "        w = w_new\n",
    "        if np.linalg.norm(g) < tol:\n",
    "            break\n",
    "    return w\n"
   ]
  },
  {
   "cell_type": "code",
   "execution_count": 9,
   "id": "08c4a06a",
   "metadata": {},
   "outputs": [],
   "source": [
    "\n",
    "def accuracy(w, X, y):\n",
    "    preds = np.sign(X @ w)\n",
    "    return np.mean(preds == y)"
   ]
  },
  {
   "cell_type": "code",
   "execution_count": 10,
   "id": "057b8b95",
   "metadata": {},
   "outputs": [],
   "source": [
    "w0 = np.zeros(X.shape[1])\n",
    "methods = {\n",
    "        'newton': optimize_newton,\n",
    "        # 'bfgs': optimize_bfgs,\n",
    "        # 'lbfgs': optimize_lbfgs,\n",
    "        'gd': optimize_gd,\n",
    "        # 'cg': optimize_cg,\n",
    "        # 'sgd': optimize_sgd,\n",
    "        # 'minibatch': optimize_minibatch,\n",
    "    }"
   ]
  },
  {
   "cell_type": "code",
   "execution_count": 11,
   "id": "c2b5d3be",
   "metadata": {},
   "outputs": [
    {
     "name": "stdout",
     "output_type": "stream",
     "text": [
      "newton: accuracy=0.9480\n"
     ]
    },
    {
     "name": "stderr",
     "output_type": "stream",
     "text": [
      "/var/folders/jp/qdv_v_xj00vfq4n4kd0wgc0c0000gn/T/ipykernel_5046/4202500670.py:17: RuntimeWarning: overflow encountered in exp\n",
      "  expz = np.exp(z)\n",
      "/Library/Frameworks/Python.framework/Versions/3.10/lib/python3.10/site-packages/numpy/core/fromnumeric.py:88: RuntimeWarning: overflow encountered in reduce\n",
      "  return ufunc.reduce(obj, axis, dtype, out, **passkwargs)\n"
     ]
    },
    {
     "name": "stdout",
     "output_type": "stream",
     "text": [
      "gd: accuracy=0.9240\n"
     ]
    }
   ],
   "source": [
    "for name, fn in methods.items():\n",
    "    w_opt= fn(w0, X, y)\n",
    "    acc = accuracy(w_opt, X, y)\n",
    "    print(f\"{name}: accuracy={acc:.4f}\")"
   ]
  },
  {
   "cell_type": "code",
   "execution_count": 14,
   "id": "c4ba99fc",
   "metadata": {},
   "outputs": [
    {
     "name": "stderr",
     "output_type": "stream",
     "text": [
      "/var/folders/jp/qdv_v_xj00vfq4n4kd0wgc0c0000gn/T/ipykernel_5046/4202500670.py:17: RuntimeWarning: overflow encountered in exp\n",
      "  expz = np.exp(z)\n",
      "/Library/Frameworks/Python.framework/Versions/3.10/lib/python3.10/site-packages/numpy/core/fromnumeric.py:88: RuntimeWarning: overflow encountered in reduce\n",
      "  return ufunc.reduce(obj, axis, dtype, out, **passkwargs)\n"
     ]
    },
    {
     "data": {
      "text/plain": [
       "0.946"
      ]
     },
     "execution_count": 14,
     "metadata": {},
     "output_type": "execute_result"
    }
   ],
   "source": [
    "w_opt = optimize_gd(w0, X, y, tol=1e-5, maxiter = 10000)\n",
    "accuracy(w_opt, X, y)"
   ]
  }
 ],
 "metadata": {
  "kernelspec": {
   "display_name": "Python 3",
   "language": "python",
   "name": "python3"
  },
  "language_info": {
   "codemirror_mode": {
    "name": "ipython",
    "version": 3
   },
   "file_extension": ".py",
   "mimetype": "text/x-python",
   "name": "python",
   "nbconvert_exporter": "python",
   "pygments_lexer": "ipython3",
   "version": "3.10.2"
  }
 },
 "nbformat": 4,
 "nbformat_minor": 5
}
